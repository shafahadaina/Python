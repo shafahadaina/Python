{
 "cells": [
  {
   "cell_type": "code",
   "execution_count": null,
   "id": "ecae732d",
   "metadata": {},
   "outputs": [],
   "source": [
    "#Assignment 2 ArcPy for GIS\n",
    "#Shafa Hadaina Prawira Sari\n",
    "\n",
    "#Importing modules\n",
    "\n",
    "import arcpy \n",
    "import sys\n",
    "import os\n",
    "\n",
    "#Creating a function for formatting buffer_value.txt\n",
    "\n",
    "def formatting_b_value_file(b_value_path):\n",
    "    try: #Testing the script inside, if there is error, it will print out \"File not found\"\n",
    "        with open(b_value_path, \"r\") as bv_file: #Opening the b_value_path which path will be assigned later on\n",
    "            buffer_values = bv_file.read().strip().split(\",\") #Reading the file, strip() is used to remove any whitespaces and split(\",\") is used to remove comma-delimited format\n",
    "            formatted_values = [] #Creating an empty list\n",
    "            for value in buffer_values: #Iterating the value in buffer_value file\n",
    "                try: #Testing the script inside, if the output is error (in this case, it's ValueError), it will print out the assigned string\n",
    "                    formatted_value = int(round(float(value))) #Assigned formatting value to float and then rounding it up, after that it will be converted to intergers\n",
    "                    if formatted_value not in formatted_values: #\"If statement\" for storing the value in formatted_value to the empty list (formatted_values)\n",
    "                        formatted_values.append(formatted_value) #The statement won't input double value inside the empty list\n",
    "                except ValueError:\n",
    "                    print(f\"Non-numerical value '{value}' is found in {b_value_path}\")\n",
    "            return sorted(formatted_values) #Returning the list which already sorted from lowest to highest\n",
    "    except FileNotFoundError:\n",
    "        print(\"File not found\")\n",
    "        sys.exit() #Program is terminated at this point for this function\n",
    "        \n",
    "b_value_path = r\"C:\\Users\\VivoBook\\Documents\\Lakehead\\ArcPy\\buffer_values.txt\" #Assigning the b_value_path\n",
    "in_gdb = r\"C:\\Users\\VivoBook\\Documents\\Lakehead\\ArcPy\\data\\jhf.gdb\" #Assigning the path of the gdb\n",
    "roads_fc = \"roads\" #Assigning the feature class in the gdb which containing strings \"roads\"\n",
    "\n",
    "def buffered_fclasses(in_feature_class, buffer_values): #Creating function with parameter of certain feature class and buffer_values\n",
    "    arcpy.env.workspace = in_gdb #Assigning the workspace with the gdb\n",
    "    for buffer_distance in buffer_values: #Iterating the buffer_distance within buffer values\n",
    "        out_feature_class = os.path.join(in_gdb, f\"roads_{buffer_distance}buff\") #os.path.join() is used to create a path to new feature class within the gdb\n",
    "        arcpy.analysis.Buffer(in_feature_class, out_feature_class, f\"{buffer_distance} Meters\") #Creating buffered feature classes\n",
    "\n",
    "def intersect_fri(in_gdb, buffer_values): #Creating function with parameters of various feature class in the gdb and the buffer values\n",
    "    arcpy.env.workspace = in_gdb #assigning the workspace with the gdb\n",
    "    fclasses = arcpy.ListFeatureClasses() #Assigning the \"fclasses\" with the list of feature classes inside the gdb\n",
    "    for fc in fclasses: #Looping fc in fclasses\n",
    "        if \"fri\" in fc and arcpy.Describe(fc).shapeType == \"Polygon\": #Conditional statement when there is string \"fri\" inside the name of fc and the shape of the feature class is polygon, the script below will be executed\n",
    "            for buffer_distance in buffer_values: #Iterating the buffer_distance in the buffer_values\n",
    "                buffered_fc = os.path.join(in_gdb, f\"roads_{buffer_distance}buff\") #Assigning \"buffered_fc\" with the feature class in gdb, in this case, the feature class which contains the buffer_distance parameter\n",
    "                out_fc = os.path.join(in_gdb, f\"fri_{buffer_distance}b_int\") #Assigning the output with formatted strings and in the in_gdb\n",
    "                arcpy.analysis.Intersect([fc, buffered_fc], out_fc) #Creating intersected features (which are the \"fri\" feature classes in the gdb and the buffered feature classes) and then storing them in out_fc\n",
    "\n",
    "buffer_values = formatting_b_value_file(b_value_path) #Assigning buffer_values with the formatted buffer_value file\n",
    "buffered_fclasses(roads_fc, buffer_values) #calling out the function of buffered_fclasses with the assigned parameters\n",
    "intersect_fri(in_gdb, buffer_values) #calling out the function of intersect_fri with the assigned parameters"
   ]
  }
 ],
 "metadata": {
  "kernelspec": {
   "display_name": "Python 3 (ipykernel)",
   "language": "python",
   "name": "python3"
  },
  "language_info": {
   "codemirror_mode": {
    "name": "ipython",
    "version": 3
   },
   "file_extension": ".py",
   "mimetype": "text/x-python",
   "name": "python",
   "nbconvert_exporter": "python",
   "pygments_lexer": "ipython3",
   "version": "3.9.18"
  }
 },
 "nbformat": 4,
 "nbformat_minor": 5
}
