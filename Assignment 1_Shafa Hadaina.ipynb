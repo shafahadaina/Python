{
 "cells": [
  {
   "cell_type": "code",
   "execution_count": 1,
   "id": "developed-physics",
   "metadata": {},
   "outputs": [
    {
     "name": "stdout",
     "output_type": "stream",
     "text": [
      "In stand 101, geographic range is B, ecosite number is 199, there is no vegetation\n",
      "In stand 122, geographic range is B, ecosite number 127, vegetative modifier is Tt, soil depth is D and chemistry modifier is n\n",
      "In stand 131, geographic range is B, ecosite number 142, vegetative modifier is N and chemistry modifier is n\n",
      "In stand 143, geographic range is B, ecosite number 013, vegetative modifier is Tt, soil depth is VS and chemistry modifier is n\n",
      "In stand 150, geographic range is B, ecosite number 054, vegetative modifier is Tt, soil depth is D and chemistry modifier is k\n"
     ]
    }
   ],
   "source": [
    "#Assignment 1\n",
    "#Here is a short code for working on the dictionary in Python.\n",
    "#The objectives of this assignment is to explain each code in the Ecosite Data based on the Geographic Range, Ecosite Number, Vegetative Modifier, Soil Depth, and Chemistry Modifier\n",
    "\n",
    "\n",
    "\n",
    "\n",
    "a = ('101','122','131','143','150') #sequence for the STAND_ID\n",
    "b = ['B199X', 'B127TtD n', 'B142N   n', 'B013TtVSn', 'B054TtD k']  #sequence for the Ecosite\n",
    "\n",
    "dl = {}                     #making empty dictionary\n",
    "for i in a:                 #looping the sequence in a\n",
    "    dl[i]= b[a.index(i)]    #assigning key-value pair from b to a -> a:b\n",
    "\n",
    "for key, value in dl.items():     #looping through each items in dictionary (dl)\n",
    "    g_range = value[0]            #slicing the value with the index of 0, in this case is the first digit of the ecosite\n",
    "    ecosite = value[1:4]          #slicing the value with the index of 1:4, for the ecosite\n",
    "    veg_mod = value[4:6].strip()  #slicing the value with the index of 4:6, added with strip() for removing extra whitespaces, for the vegetative modifier\n",
    "    soil_dep = value[6:8].strip() #slicing the value with the index of 6:8, added with strip() for removing extra whitespaces, for soil depth\n",
    "    chem_mod = value[8:9]         #slicing the value with the index of 8:9\n",
    "    \n",
    "    #Conditional statement for each ecosites\n",
    "    if len(value) < 6:  #To filter out the anthropogenic site, based on the length of the strings\n",
    "        print(f\"In stand {key}, geographic range is {g_range}, ecosite number is {ecosite}, there is no vegetation\")\n",
    "    elif value.count(' ') == 3:  #To filter out the hydric site, if there is 3 whitespaces in the string, it would be filtered out\n",
    "        print(f\"In stand {key}, geographic range is {g_range}, ecosite number {ecosite}, vegetative modifier is {veg_mod} and chemistry modifier is {chem_mod}\")\n",
    "    else: #The remaining ecosite will be printed out as below, I formatted the strings, using the f-strings\n",
    "        print(f\"In stand {key}, geographic range is {g_range}, ecosite number {ecosite}, vegetative modifier is {veg_mod}, soil depth is {soil_dep} and chemistry modifier is {chem_mod}\")\n",
    "\n",
    "        \n",
    "#P.S. Please let me know if there is any other way to solve this out, and I'm hoping for feedback on my script, thank you."
   ]
  },
  {
   "cell_type": "code",
   "execution_count": null,
   "id": "confirmed-apparatus",
   "metadata": {},
   "outputs": [],
   "source": []
  }
 ],
 "metadata": {
  "kernelspec": {
   "display_name": "Python 3",
   "language": "python",
   "name": "python3"
  },
  "language_info": {
   "codemirror_mode": {
    "name": "ipython",
    "version": 3
   },
   "file_extension": ".py",
   "mimetype": "text/x-python",
   "name": "python",
   "nbconvert_exporter": "python",
   "pygments_lexer": "ipython3",
   "version": "3.8.5"
  }
 },
 "nbformat": 4,
 "nbformat_minor": 5
}
